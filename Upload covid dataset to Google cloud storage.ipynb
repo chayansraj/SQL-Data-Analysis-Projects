{
 "cells": [
  {
   "cell_type": "code",
   "execution_count": 19,
   "id": "d0a27dd1",
   "metadata": {},
   "outputs": [],
   "source": [
    "import pandas as pd\n",
    "import os"
   ]
  },
  {
   "cell_type": "code",
   "execution_count": 20,
   "id": "5a98f215",
   "metadata": {},
   "outputs": [],
   "source": [
    "os.environ['GOOGLE_APPLICATION_CREDENTIALS'] = \"D:\\Downloads\\sqlcovidanalysis-5149e3b8b26a.json\""
   ]
  },
  {
   "cell_type": "code",
   "execution_count": 16,
   "id": "bfc66fbc",
   "metadata": {},
   "outputs": [],
   "source": [
    "import gcsfs\n",
    "from google.cloud import storage"
   ]
  },
  {
   "cell_type": "code",
   "execution_count": 4,
   "id": "d07ab753",
   "metadata": {},
   "outputs": [
    {
     "data": {
      "text/html": [
       "<div>\n",
       "<style scoped>\n",
       "    .dataframe tbody tr th:only-of-type {\n",
       "        vertical-align: middle;\n",
       "    }\n",
       "\n",
       "    .dataframe tbody tr th {\n",
       "        vertical-align: top;\n",
       "    }\n",
       "\n",
       "    .dataframe thead th {\n",
       "        text-align: right;\n",
       "    }\n",
       "</style>\n",
       "<table border=\"1\" class=\"dataframe\">\n",
       "  <thead>\n",
       "    <tr style=\"text-align: right;\">\n",
       "      <th></th>\n",
       "      <th>iso_code</th>\n",
       "      <th>continent</th>\n",
       "      <th>location</th>\n",
       "      <th>date</th>\n",
       "      <th>total_cases</th>\n",
       "      <th>new_cases</th>\n",
       "      <th>new_cases_smoothed</th>\n",
       "      <th>total_deaths</th>\n",
       "      <th>new_deaths</th>\n",
       "      <th>new_deaths_smoothed</th>\n",
       "      <th>...</th>\n",
       "      <th>male_smokers</th>\n",
       "      <th>handwashing_facilities</th>\n",
       "      <th>hospital_beds_per_thousand</th>\n",
       "      <th>life_expectancy</th>\n",
       "      <th>human_development_index</th>\n",
       "      <th>population</th>\n",
       "      <th>excess_mortality_cumulative_absolute</th>\n",
       "      <th>excess_mortality_cumulative</th>\n",
       "      <th>excess_mortality</th>\n",
       "      <th>excess_mortality_cumulative_per_million</th>\n",
       "    </tr>\n",
       "  </thead>\n",
       "  <tbody>\n",
       "    <tr>\n",
       "      <th>0</th>\n",
       "      <td>AFG</td>\n",
       "      <td>Asia</td>\n",
       "      <td>Afghanistan</td>\n",
       "      <td>2020-01-03</td>\n",
       "      <td>NaN</td>\n",
       "      <td>0.0</td>\n",
       "      <td>NaN</td>\n",
       "      <td>NaN</td>\n",
       "      <td>0.0</td>\n",
       "      <td>NaN</td>\n",
       "      <td>...</td>\n",
       "      <td>NaN</td>\n",
       "      <td>37.746</td>\n",
       "      <td>0.5</td>\n",
       "      <td>64.83</td>\n",
       "      <td>0.511</td>\n",
       "      <td>41128772.0</td>\n",
       "      <td>NaN</td>\n",
       "      <td>NaN</td>\n",
       "      <td>NaN</td>\n",
       "      <td>NaN</td>\n",
       "    </tr>\n",
       "    <tr>\n",
       "      <th>1</th>\n",
       "      <td>AFG</td>\n",
       "      <td>Asia</td>\n",
       "      <td>Afghanistan</td>\n",
       "      <td>2020-01-04</td>\n",
       "      <td>NaN</td>\n",
       "      <td>0.0</td>\n",
       "      <td>NaN</td>\n",
       "      <td>NaN</td>\n",
       "      <td>0.0</td>\n",
       "      <td>NaN</td>\n",
       "      <td>...</td>\n",
       "      <td>NaN</td>\n",
       "      <td>37.746</td>\n",
       "      <td>0.5</td>\n",
       "      <td>64.83</td>\n",
       "      <td>0.511</td>\n",
       "      <td>41128772.0</td>\n",
       "      <td>NaN</td>\n",
       "      <td>NaN</td>\n",
       "      <td>NaN</td>\n",
       "      <td>NaN</td>\n",
       "    </tr>\n",
       "    <tr>\n",
       "      <th>2</th>\n",
       "      <td>AFG</td>\n",
       "      <td>Asia</td>\n",
       "      <td>Afghanistan</td>\n",
       "      <td>2020-01-05</td>\n",
       "      <td>NaN</td>\n",
       "      <td>0.0</td>\n",
       "      <td>NaN</td>\n",
       "      <td>NaN</td>\n",
       "      <td>0.0</td>\n",
       "      <td>NaN</td>\n",
       "      <td>...</td>\n",
       "      <td>NaN</td>\n",
       "      <td>37.746</td>\n",
       "      <td>0.5</td>\n",
       "      <td>64.83</td>\n",
       "      <td>0.511</td>\n",
       "      <td>41128772.0</td>\n",
       "      <td>NaN</td>\n",
       "      <td>NaN</td>\n",
       "      <td>NaN</td>\n",
       "      <td>NaN</td>\n",
       "    </tr>\n",
       "    <tr>\n",
       "      <th>3</th>\n",
       "      <td>AFG</td>\n",
       "      <td>Asia</td>\n",
       "      <td>Afghanistan</td>\n",
       "      <td>2020-01-06</td>\n",
       "      <td>NaN</td>\n",
       "      <td>0.0</td>\n",
       "      <td>NaN</td>\n",
       "      <td>NaN</td>\n",
       "      <td>0.0</td>\n",
       "      <td>NaN</td>\n",
       "      <td>...</td>\n",
       "      <td>NaN</td>\n",
       "      <td>37.746</td>\n",
       "      <td>0.5</td>\n",
       "      <td>64.83</td>\n",
       "      <td>0.511</td>\n",
       "      <td>41128772.0</td>\n",
       "      <td>NaN</td>\n",
       "      <td>NaN</td>\n",
       "      <td>NaN</td>\n",
       "      <td>NaN</td>\n",
       "    </tr>\n",
       "    <tr>\n",
       "      <th>4</th>\n",
       "      <td>AFG</td>\n",
       "      <td>Asia</td>\n",
       "      <td>Afghanistan</td>\n",
       "      <td>2020-01-07</td>\n",
       "      <td>NaN</td>\n",
       "      <td>0.0</td>\n",
       "      <td>NaN</td>\n",
       "      <td>NaN</td>\n",
       "      <td>0.0</td>\n",
       "      <td>NaN</td>\n",
       "      <td>...</td>\n",
       "      <td>NaN</td>\n",
       "      <td>37.746</td>\n",
       "      <td>0.5</td>\n",
       "      <td>64.83</td>\n",
       "      <td>0.511</td>\n",
       "      <td>41128772.0</td>\n",
       "      <td>NaN</td>\n",
       "      <td>NaN</td>\n",
       "      <td>NaN</td>\n",
       "      <td>NaN</td>\n",
       "    </tr>\n",
       "  </tbody>\n",
       "</table>\n",
       "<p>5 rows × 67 columns</p>\n",
       "</div>"
      ],
      "text/plain": [
       "  iso_code continent     location        date  total_cases  new_cases  \\\n",
       "0      AFG      Asia  Afghanistan  2020-01-03          NaN        0.0   \n",
       "1      AFG      Asia  Afghanistan  2020-01-04          NaN        0.0   \n",
       "2      AFG      Asia  Afghanistan  2020-01-05          NaN        0.0   \n",
       "3      AFG      Asia  Afghanistan  2020-01-06          NaN        0.0   \n",
       "4      AFG      Asia  Afghanistan  2020-01-07          NaN        0.0   \n",
       "\n",
       "   new_cases_smoothed  total_deaths  new_deaths  new_deaths_smoothed  ...  \\\n",
       "0                 NaN           NaN         0.0                  NaN  ...   \n",
       "1                 NaN           NaN         0.0                  NaN  ...   \n",
       "2                 NaN           NaN         0.0                  NaN  ...   \n",
       "3                 NaN           NaN         0.0                  NaN  ...   \n",
       "4                 NaN           NaN         0.0                  NaN  ...   \n",
       "\n",
       "   male_smokers  handwashing_facilities  hospital_beds_per_thousand  \\\n",
       "0           NaN                  37.746                         0.5   \n",
       "1           NaN                  37.746                         0.5   \n",
       "2           NaN                  37.746                         0.5   \n",
       "3           NaN                  37.746                         0.5   \n",
       "4           NaN                  37.746                         0.5   \n",
       "\n",
       "   life_expectancy  human_development_index  population  \\\n",
       "0            64.83                    0.511  41128772.0   \n",
       "1            64.83                    0.511  41128772.0   \n",
       "2            64.83                    0.511  41128772.0   \n",
       "3            64.83                    0.511  41128772.0   \n",
       "4            64.83                    0.511  41128772.0   \n",
       "\n",
       "   excess_mortality_cumulative_absolute  excess_mortality_cumulative  \\\n",
       "0                                   NaN                          NaN   \n",
       "1                                   NaN                          NaN   \n",
       "2                                   NaN                          NaN   \n",
       "3                                   NaN                          NaN   \n",
       "4                                   NaN                          NaN   \n",
       "\n",
       "   excess_mortality  excess_mortality_cumulative_per_million  \n",
       "0               NaN                                      NaN  \n",
       "1               NaN                                      NaN  \n",
       "2               NaN                                      NaN  \n",
       "3               NaN                                      NaN  \n",
       "4               NaN                                      NaN  \n",
       "\n",
       "[5 rows x 67 columns]"
      ]
     },
     "execution_count": 4,
     "metadata": {},
     "output_type": "execute_result"
    }
   ],
   "source": [
    "data = pd.read_csv('owid-covid-data.csv')\n",
    "data.head()"
   ]
  },
  {
   "cell_type": "code",
   "execution_count": 5,
   "id": "2ef0024e",
   "metadata": {},
   "outputs": [
    {
     "data": {
      "text/plain": [
       "(346487, 67)"
      ]
     },
     "execution_count": 5,
     "metadata": {},
     "output_type": "execute_result"
    }
   ],
   "source": [
    "data.shape"
   ]
  },
  {
   "cell_type": "code",
   "execution_count": 6,
   "id": "7e7b0138",
   "metadata": {},
   "outputs": [
    {
     "name": "stdout",
     "output_type": "stream",
     "text": [
      "<class 'pandas.core.frame.DataFrame'>\n",
      "RangeIndex: 346487 entries, 0 to 346486\n",
      "Data columns (total 67 columns):\n",
      " #   Column                                      Non-Null Count   Dtype  \n",
      "---  ------                                      --------------   -----  \n",
      " 0   iso_code                                    346487 non-null  object \n",
      " 1   continent                                   330035 non-null  object \n",
      " 2   location                                    346487 non-null  object \n",
      " 3   date                                        346487 non-null  object \n",
      " 4   total_cases                                 308672 non-null  float64\n",
      " 5   new_cases                                   337028 non-null  float64\n",
      " 6   new_cases_smoothed                          335769 non-null  float64\n",
      " 7   total_deaths                                287169 non-null  float64\n",
      " 8   new_deaths                                  337072 non-null  float64\n",
      " 9   new_deaths_smoothed                         335842 non-null  float64\n",
      " 10  total_cases_per_million                     308672 non-null  float64\n",
      " 11  new_cases_per_million                       337028 non-null  float64\n",
      " 12  new_cases_smoothed_per_million              335769 non-null  float64\n",
      " 13  total_deaths_per_million                    287169 non-null  float64\n",
      " 14  new_deaths_per_million                      337072 non-null  float64\n",
      " 15  new_deaths_smoothed_per_million             335842 non-null  float64\n",
      " 16  reproduction_rate                           184817 non-null  float64\n",
      " 17  icu_patients                                37464 non-null   float64\n",
      " 18  icu_patients_per_million                    37464 non-null   float64\n",
      " 19  hosp_patients                               38695 non-null   float64\n",
      " 20  hosp_patients_per_million                   38695 non-null   float64\n",
      " 21  weekly_icu_admissions                       10139 non-null   float64\n",
      " 22  weekly_icu_admissions_per_million           10139 non-null   float64\n",
      " 23  weekly_hosp_admissions                      23103 non-null   float64\n",
      " 24  weekly_hosp_admissions_per_million          23103 non-null   float64\n",
      " 25  total_tests                                 79387 non-null   float64\n",
      " 26  new_tests                                   75403 non-null   float64\n",
      " 27  total_tests_per_thousand                    79387 non-null   float64\n",
      " 28  new_tests_per_thousand                      75403 non-null   float64\n",
      " 29  new_tests_smoothed                          103965 non-null  float64\n",
      " 30  new_tests_smoothed_per_thousand             103965 non-null  float64\n",
      " 31  positive_rate                               95927 non-null   float64\n",
      " 32  tests_per_case                              94348 non-null   float64\n",
      " 33  tests_units                                 106788 non-null  object \n",
      " 34  total_vaccinations                          78894 non-null   float64\n",
      " 35  people_vaccinated                           75519 non-null   float64\n",
      " 36  people_fully_vaccinated                     72165 non-null   float64\n",
      " 37  total_boosters                              47179 non-null   float64\n",
      " 38  new_vaccinations                            64970 non-null   float64\n",
      " 39  new_vaccinations_smoothed                   179191 non-null  float64\n",
      " 40  total_vaccinations_per_hundred              78894 non-null   float64\n",
      " 41  people_vaccinated_per_hundred               75519 non-null   float64\n",
      " 42  people_fully_vaccinated_per_hundred         72165 non-null   float64\n",
      " 43  total_boosters_per_hundred                  47179 non-null   float64\n",
      " 44  new_vaccinations_smoothed_per_million       179191 non-null  float64\n",
      " 45  new_people_vaccinated_smoothed              178841 non-null  float64\n",
      " 46  new_people_vaccinated_smoothed_per_hundred  178841 non-null  float64\n",
      " 47  stringency_index                            197651 non-null  float64\n",
      " 48  population_density                          294131 non-null  float64\n",
      " 49  median_age                                  273544 non-null  float64\n",
      " 50  aged_65_older                               263969 non-null  float64\n",
      " 51  aged_70_older                               270802 non-null  float64\n",
      " 52  gdp_per_capita                              268082 non-null  float64\n",
      " 53  extreme_poverty                             172750 non-null  float64\n",
      " 54  cardiovasc_death_rate                       268697 non-null  float64\n",
      " 55  diabetes_prevalence                         282368 non-null  float64\n",
      " 56  female_smokers                              201541 non-null  float64\n",
      " 57  male_smokers                                198799 non-null  float64\n",
      " 58  handwashing_facilities                      131618 non-null  float64\n",
      " 59  hospital_beds_per_thousand                  237187 non-null  float64\n",
      " 60  life_expectancy                             318787 non-null  float64\n",
      " 61  human_development_index                     260432 non-null  float64\n",
      " 62  population                                  346487 non-null  float64\n",
      " 63  excess_mortality_cumulative_absolute        11944 non-null   float64\n",
      " 64  excess_mortality_cumulative                 11944 non-null   float64\n",
      " 65  excess_mortality                            11944 non-null   float64\n",
      " 66  excess_mortality_cumulative_per_million     11944 non-null   float64\n",
      "dtypes: float64(62), object(5)\n",
      "memory usage: 177.1+ MB\n"
     ]
    }
   ],
   "source": [
    "data.info()"
   ]
  },
  {
   "cell_type": "code",
   "execution_count": 7,
   "id": "395ffad0",
   "metadata": {},
   "outputs": [],
   "source": [
    "death_columns = list(data.columns[:25])"
   ]
  },
  {
   "cell_type": "code",
   "execution_count": 8,
   "id": "f8140de7",
   "metadata": {},
   "outputs": [],
   "source": [
    "death_columns.append('population')"
   ]
  },
  {
   "cell_type": "code",
   "execution_count": 9,
   "id": "934e4f91",
   "metadata": {},
   "outputs": [
    {
     "data": {
      "text/plain": [
       "['iso_code',\n",
       " 'continent',\n",
       " 'location',\n",
       " 'date',\n",
       " 'total_cases',\n",
       " 'new_cases',\n",
       " 'new_cases_smoothed',\n",
       " 'total_deaths',\n",
       " 'new_deaths',\n",
       " 'new_deaths_smoothed',\n",
       " 'total_cases_per_million',\n",
       " 'new_cases_per_million',\n",
       " 'new_cases_smoothed_per_million',\n",
       " 'total_deaths_per_million',\n",
       " 'new_deaths_per_million',\n",
       " 'new_deaths_smoothed_per_million',\n",
       " 'reproduction_rate',\n",
       " 'icu_patients',\n",
       " 'icu_patients_per_million',\n",
       " 'hosp_patients',\n",
       " 'hosp_patients_per_million',\n",
       " 'weekly_icu_admissions',\n",
       " 'weekly_icu_admissions_per_million',\n",
       " 'weekly_hosp_admissions',\n",
       " 'weekly_hosp_admissions_per_million',\n",
       " 'population']"
      ]
     },
     "execution_count": 9,
     "metadata": {},
     "output_type": "execute_result"
    }
   ],
   "source": [
    "death_columns"
   ]
  },
  {
   "cell_type": "code",
   "execution_count": 10,
   "id": "f26aeed0",
   "metadata": {},
   "outputs": [],
   "source": [
    "covid_deaths = data.loc[:,death_columns]"
   ]
  },
  {
   "cell_type": "code",
   "execution_count": 11,
   "id": "a9df8460",
   "metadata": {},
   "outputs": [
    {
     "name": "stdout",
     "output_type": "stream",
     "text": [
      "<class 'pandas.core.frame.DataFrame'>\n",
      "RangeIndex: 346487 entries, 0 to 346486\n",
      "Data columns (total 26 columns):\n",
      " #   Column                              Non-Null Count   Dtype  \n",
      "---  ------                              --------------   -----  \n",
      " 0   iso_code                            346487 non-null  object \n",
      " 1   continent                           330035 non-null  object \n",
      " 2   location                            346487 non-null  object \n",
      " 3   date                                346487 non-null  object \n",
      " 4   total_cases                         308672 non-null  float64\n",
      " 5   new_cases                           337028 non-null  float64\n",
      " 6   new_cases_smoothed                  335769 non-null  float64\n",
      " 7   total_deaths                        287169 non-null  float64\n",
      " 8   new_deaths                          337072 non-null  float64\n",
      " 9   new_deaths_smoothed                 335842 non-null  float64\n",
      " 10  total_cases_per_million             308672 non-null  float64\n",
      " 11  new_cases_per_million               337028 non-null  float64\n",
      " 12  new_cases_smoothed_per_million      335769 non-null  float64\n",
      " 13  total_deaths_per_million            287169 non-null  float64\n",
      " 14  new_deaths_per_million              337072 non-null  float64\n",
      " 15  new_deaths_smoothed_per_million     335842 non-null  float64\n",
      " 16  reproduction_rate                   184817 non-null  float64\n",
      " 17  icu_patients                        37464 non-null   float64\n",
      " 18  icu_patients_per_million            37464 non-null   float64\n",
      " 19  hosp_patients                       38695 non-null   float64\n",
      " 20  hosp_patients_per_million           38695 non-null   float64\n",
      " 21  weekly_icu_admissions               10139 non-null   float64\n",
      " 22  weekly_icu_admissions_per_million   10139 non-null   float64\n",
      " 23  weekly_hosp_admissions              23103 non-null   float64\n",
      " 24  weekly_hosp_admissions_per_million  23103 non-null   float64\n",
      " 25  population                          346487 non-null  float64\n",
      "dtypes: float64(22), object(4)\n",
      "memory usage: 68.7+ MB\n"
     ]
    }
   ],
   "source": [
    "covid_deaths.info()"
   ]
  },
  {
   "cell_type": "code",
   "execution_count": 21,
   "id": "65fa26dd",
   "metadata": {},
   "outputs": [],
   "source": [
    "client = storage.Client()"
   ]
  },
  {
   "cell_type": "code",
   "execution_count": 22,
   "id": "b91d9a22",
   "metadata": {},
   "outputs": [],
   "source": [
    "bucket= client.get_bucket(\"coviddataraw\")"
   ]
  },
  {
   "cell_type": "code",
   "execution_count": 53,
   "id": "e646c3d9",
   "metadata": {},
   "outputs": [],
   "source": [
    "bucket.blob('covid_deaths.csv').upload_from_string(covid_deaths.to_csv(index=False, sep=','), 'text/csv')"
   ]
  },
  {
   "cell_type": "code",
   "execution_count": 42,
   "id": "c1612099",
   "metadata": {},
   "outputs": [],
   "source": [
    "main_cols = list(data.columns[:4])"
   ]
  },
  {
   "cell_type": "code",
   "execution_count": 44,
   "id": "7752dc90",
   "metadata": {},
   "outputs": [],
   "source": [
    "vaccine_cols = list(data.columns[25:])"
   ]
  },
  {
   "cell_type": "code",
   "execution_count": 49,
   "id": "271cf85c",
   "metadata": {},
   "outputs": [],
   "source": [
    "vaccine_columns = main_cols + vaccine_cols"
   ]
  },
  {
   "cell_type": "code",
   "execution_count": 50,
   "id": "2b794234",
   "metadata": {},
   "outputs": [
    {
     "data": {
      "text/plain": [
       "['iso_code',\n",
       " 'continent',\n",
       " 'location',\n",
       " 'date',\n",
       " 'total_tests',\n",
       " 'new_tests',\n",
       " 'total_tests_per_thousand',\n",
       " 'new_tests_per_thousand',\n",
       " 'new_tests_smoothed',\n",
       " 'new_tests_smoothed_per_thousand',\n",
       " 'positive_rate',\n",
       " 'tests_per_case',\n",
       " 'tests_units',\n",
       " 'total_vaccinations',\n",
       " 'people_vaccinated',\n",
       " 'people_fully_vaccinated',\n",
       " 'total_boosters',\n",
       " 'new_vaccinations',\n",
       " 'new_vaccinations_smoothed',\n",
       " 'total_vaccinations_per_hundred',\n",
       " 'people_vaccinated_per_hundred',\n",
       " 'people_fully_vaccinated_per_hundred',\n",
       " 'total_boosters_per_hundred',\n",
       " 'new_vaccinations_smoothed_per_million',\n",
       " 'new_people_vaccinated_smoothed',\n",
       " 'new_people_vaccinated_smoothed_per_hundred',\n",
       " 'stringency_index',\n",
       " 'population_density',\n",
       " 'median_age',\n",
       " 'aged_65_older',\n",
       " 'aged_70_older',\n",
       " 'gdp_per_capita',\n",
       " 'extreme_poverty',\n",
       " 'cardiovasc_death_rate',\n",
       " 'diabetes_prevalence',\n",
       " 'female_smokers',\n",
       " 'male_smokers',\n",
       " 'handwashing_facilities',\n",
       " 'hospital_beds_per_thousand',\n",
       " 'life_expectancy',\n",
       " 'human_development_index',\n",
       " 'excess_mortality_cumulative_absolute',\n",
       " 'excess_mortality_cumulative',\n",
       " 'excess_mortality',\n",
       " 'excess_mortality_cumulative_per_million']"
      ]
     },
     "execution_count": 50,
     "metadata": {},
     "output_type": "execute_result"
    }
   ],
   "source": [
    "vaccine_columns"
   ]
  },
  {
   "cell_type": "code",
   "execution_count": 51,
   "id": "4dab6775",
   "metadata": {},
   "outputs": [],
   "source": [
    "covid_vaccinations = data.loc[:,vaccine_columns]"
   ]
  },
  {
   "cell_type": "code",
   "execution_count": 52,
   "id": "e9d573e3",
   "metadata": {},
   "outputs": [],
   "source": [
    "bucket.blob('covid_vaccinations.csv').upload_from_string(covid_vaccinations.to_csv(index=False, sep=','), 'text/csv')"
   ]
  },
  {
   "cell_type": "code",
   "execution_count": null,
   "id": "a3391d27",
   "metadata": {},
   "outputs": [],
   "source": []
  }
 ],
 "metadata": {
  "kernelspec": {
   "display_name": "Python 3 (ipykernel)",
   "language": "python",
   "name": "python3"
  },
  "language_info": {
   "codemirror_mode": {
    "name": "ipython",
    "version": 3
   },
   "file_extension": ".py",
   "mimetype": "text/x-python",
   "name": "python",
   "nbconvert_exporter": "python",
   "pygments_lexer": "ipython3",
   "version": "3.9.7"
  }
 },
 "nbformat": 4,
 "nbformat_minor": 5
}
